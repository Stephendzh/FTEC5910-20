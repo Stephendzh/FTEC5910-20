{
 "cells": [
  {
   "cell_type": "code",
   "execution_count": 1,
   "outputs": [],
   "source": [
    "import numpy as np"
   ],
   "metadata": {
    "collapsed": false,
    "ExecuteTime": {
     "end_time": "2023-10-14T03:28:42.668155Z",
     "start_time": "2023-10-14T03:28:42.561974900Z"
    }
   }
  },
  {
   "cell_type": "code",
   "execution_count": 2,
   "outputs": [
    {
     "data": {
      "text/plain": "array([[[0, 3, 8, ..., 6, 9, 3],\n        [7, 3, 0, ..., 9, 7, 3],\n        [2, 3, 1, ..., 5, 7, 0],\n        ...,\n        [9, 2, 2, ..., 9, 6, 8],\n        [5, 9, 1, ..., 8, 8, 1],\n        [8, 1, 6, ..., 5, 2, 9]],\n\n       [[4, 8, 1, ..., 7, 2, 0],\n        [5, 2, 3, ..., 9, 1, 5],\n        [7, 3, 4, ..., 4, 1, 1],\n        ...,\n        [1, 6, 4, ..., 8, 3, 2],\n        [4, 2, 3, ..., 5, 3, 3],\n        [5, 2, 5, ..., 7, 3, 7]],\n\n       [[9, 4, 5, ..., 3, 2, 6],\n        [4, 6, 9, ..., 3, 6, 9],\n        [1, 7, 9, ..., 8, 9, 6],\n        ...,\n        [1, 4, 6, ..., 5, 7, 8],\n        [1, 7, 8, ..., 5, 3, 6],\n        [3, 0, 0, ..., 7, 2, 7]]])"
     },
     "execution_count": 2,
     "metadata": {},
     "output_type": "execute_result"
    }
   ],
   "source": [
    "input_feature_map = np.random.randint(0, 10, (3,56,56))\n",
    "input_feature_map"
   ],
   "metadata": {
    "collapsed": false,
    "ExecuteTime": {
     "end_time": "2023-10-14T03:28:42.682046700Z",
     "start_time": "2023-10-14T03:28:42.666710700Z"
    }
   }
  },
  {
   "cell_type": "code",
   "execution_count": 3,
   "outputs": [
    {
     "data": {
      "text/plain": "array([[[5, 8, 9],\n        [2, 3, 5],\n        [6, 3, 7]],\n\n       [[8, 0, 8],\n        [3, 3, 8],\n        [9, 5, 9]],\n\n       [[6, 2, 9],\n        [6, 0, 2],\n        [4, 5, 4]]])"
     },
     "execution_count": 3,
     "metadata": {},
     "output_type": "execute_result"
    }
   ],
   "source": [
    "kernel = np.random.randint(0, 10, (3, 3, 3))\n",
    "kernel"
   ],
   "metadata": {
    "collapsed": false,
    "ExecuteTime": {
     "end_time": "2023-10-14T03:28:42.726323300Z",
     "start_time": "2023-10-14T03:28:42.682046700Z"
    }
   }
  },
  {
   "cell_type": "code",
   "execution_count": 4,
   "outputs": [
    {
     "data": {
      "text/plain": "56"
     },
     "execution_count": 4,
     "metadata": {},
     "output_type": "execute_result"
    }
   ],
   "source": [
    "input_feature_map.shape[1]"
   ],
   "metadata": {
    "collapsed": false,
    "ExecuteTime": {
     "end_time": "2023-10-14T03:28:42.742817300Z",
     "start_time": "2023-10-14T03:28:42.697590500Z"
    }
   }
  },
  {
   "cell_type": "code",
   "execution_count": 5,
   "outputs": [
    {
     "data": {
      "text/plain": "array([[0., 0., 0., 0.],\n       [0., 0., 0., 0.],\n       [0., 0., 0., 0.],\n       [0., 0., 0., 0.]])"
     },
     "execution_count": 5,
     "metadata": {},
     "output_type": "execute_result"
    }
   ],
   "source": [
    "new_ifm = np.zeros(shape=(4, 4))\n",
    "new_ifm"
   ],
   "metadata": {
    "collapsed": false,
    "ExecuteTime": {
     "end_time": "2023-10-14T03:28:42.745141400Z",
     "start_time": "2023-10-14T03:28:42.714218700Z"
    }
   }
  },
  {
   "cell_type": "code",
   "execution_count": 6,
   "outputs": [
    {
     "data": {
      "text/plain": "[0,\n 3,\n 8,\n 7,\n 3,\n 0,\n 2,\n 3,\n 1,\n 4,\n 8,\n 1,\n 5,\n 2,\n 3,\n 7,\n 3,\n 4,\n 9,\n 4,\n 5,\n 4,\n 6,\n 9,\n 1,\n 7,\n 9,\n 3,\n 8,\n 4,\n 3,\n 0,\n 3,\n 3,\n 1,\n 4,\n 8,\n 1,\n 3,\n 2,\n 3,\n 9,\n 3,\n 4,\n 2,\n 4,\n 5,\n 0,\n 6,\n 9,\n 8,\n 7,\n 9,\n 6,\n 8,\n 4,\n 1,\n 0,\n 3,\n 1,\n 1,\n 4,\n 5,\n 1,\n 3,\n 5,\n 3,\n 9,\n 0,\n 4,\n 2,\n 0,\n 5,\n 0,\n 5,\n 9,\n 8,\n 6,\n 9,\n 6,\n 9,\n 4,\n 1,\n 5,\n 3,\n 1,\n 1,\n 4,\n 5,\n 6,\n 3,\n 5,\n 2,\n 9,\n 0,\n 3,\n 2,\n 0,\n 7,\n 0,\n 5,\n 3,\n 8,\n 6,\n 2,\n 6,\n 9,\n 9,\n 1,\n 5,\n 9,\n 1,\n 1,\n 6,\n 5,\n 6,\n 4,\n 5,\n 2,\n 9,\n 0,\n 3,\n 2,\n 0,\n 7,\n 4,\n 5,\n 3,\n 6,\n 6,\n 2,\n 2,\n 9,\n 9,\n 9,\n 5,\n 9,\n 5,\n 1,\n 6,\n 8,\n 6,\n 4,\n 0,\n 2,\n 9,\n 4,\n 3,\n 2,\n 9,\n 7,\n 4,\n 1,\n 3,\n 6,\n 3,\n 2,\n 2,\n 3,\n 9,\n 9,\n 4,\n 9,\n 5,\n 7,\n 6,\n 8,\n 7,\n 4,\n 0,\n 8,\n 9,\n 4,\n 4,\n 2,\n 9,\n 5,\n 4,\n 1,\n 2,\n 6,\n 3,\n 3,\n 2,\n 3,\n 0,\n 9,\n 4,\n 5,\n 5,\n 7,\n 5,\n 8,\n 7,\n 4,\n 0,\n 8,\n 9,\n 4,\n 4,\n 2,\n 9,\n 5,\n 6,\n 1,\n 2,\n 2,\n 3,\n 3,\n 3,\n 3,\n 0,\n 0,\n 4,\n 5,\n 1,\n 7,\n 5,\n 3,\n 7,\n 4,\n 0,\n 8,\n 9,\n 9,\n 4,\n 2,\n 5,\n 5,\n 6,\n 3,\n 2,\n 2,\n 4,\n 3,\n 3,\n 1,\n 0,\n 0,\n 0,\n 5,\n 1,\n 0,\n 5,\n 3,\n 1,\n 4,\n 0,\n 8,\n 9,\n 9,\n 9,\n 2,\n 5,\n 7,\n 6,\n 3,\n 3,\n 2,\n 4,\n 1,\n 3,\n 1,\n 6,\n 0,\n 0,\n 9,\n 1,\n 0,\n 0,\n 3,\n 1,\n 7,\n 0,\n 8,\n 4,\n 9,\n 9,\n 2,\n 5,\n 7,\n 3,\n 3,\n 3,\n 3,\n 4,\n 1,\n 9,\n 1,\n 6,\n 7,\n 0,\n 9,\n 0,\n 0,\n 0,\n 4,\n 1,\n 7,\n 9,\n 8,\n 4,\n 1,\n 9,\n 2,\n 9,\n 7,\n 3,\n 2,\n 3,\n 3,\n 2,\n 1,\n 9,\n 6,\n 6,\n 7,\n 7,\n 9,\n 0,\n 8,\n 0,\n 4,\n 0,\n 7,\n 9,\n 9,\n 4,\n 1,\n 0,\n 2,\n 9,\n 1,\n 3,\n 2,\n 1,\n 3,\n 2,\n 0,\n 9,\n 6,\n 7,\n 7,\n 7,\n 9,\n 0,\n 8,\n 3,\n 4,\n 0,\n 0,\n 9,\n 9,\n 4,\n 1,\n 0,\n 7,\n 9,\n 1,\n 8,\n 2,\n 1,\n 5,\n 2,\n 0,\n 0,\n 6,\n 7,\n 5,\n 7,\n 9,\n 0,\n 8,\n 3,\n 3,\n 0,\n 0,\n 7,\n 9,\n 4,\n 6,\n 0,\n 7,\n 1,\n 1,\n 8,\n 8,\n 1,\n 5,\n 5,\n 0,\n 0,\n 8,\n 7,\n 5,\n 2,\n 9,\n 0,\n 2,\n 3,\n 3,\n 5,\n 0,\n 7,\n 7,\n 4,\n 6,\n 8,\n 7,\n 1,\n 7,\n 8,\n 8,\n 4,\n 5,\n 5,\n 1,\n 0,\n 8,\n 0,\n 5,\n 2,\n 9,\n 0,\n 2,\n 3,\n 3,\n 5,\n 8,\n 7,\n 7,\n 0,\n 6,\n 8,\n 0,\n 1,\n 7,\n 6,\n 8,\n 4,\n 6,\n 5,\n 1,\n 4,\n 8,\n 0,\n 3,\n 2,\n 9,\n 6,\n 2,\n 3,\n 3,\n 5,\n 8,\n 0,\n 7,\n 0,\n 8,\n 8,\n 0,\n 2,\n 7,\n 6,\n 8,\n 4,\n 6,\n 7,\n 1,\n 4,\n 5,\n 0,\n 3,\n 7,\n 9,\n 6,\n 0,\n 3,\n 3,\n 9,\n 8,\n 0,\n 5,\n 0,\n 8,\n 4,\n 0,\n 2,\n 4,\n 6,\n 8,\n 5,\n 6,\n 7,\n 0,\n 4,\n 5,\n 1,\n 3,\n 7,\n 0,\n 6,\n 0,\n 6,\n 3,\n 9,\n 4,\n 0,\n 5,\n 6,\n 8,\n 4,\n 3,\n 2,\n 4,\n 1,\n 8,\n 5,\n 7,\n 7,\n 0,\n 8,\n 5,\n 1,\n 8,\n 7,\n 0,\n 3,\n 0,\n 6,\n 4,\n 9,\n 4,\n 5,\n 5,\n 6,\n 6,\n 4,\n 3,\n 4,\n 4,\n 1,\n 0,\n 5,\n 7,\n 7,\n 0,\n 8,\n 3,\n 1,\n 8,\n 3,\n 0,\n 3,\n 7,\n 6,\n 4,\n 2,\n 4,\n 5,\n 1,\n 6,\n 6,\n 5,\n 3,\n 4,\n 8,\n 1,\n 0,\n 3,\n 7,\n 7,\n 4,\n 8,\n 3,\n 2,\n 8,\n 3,\n 8,\n 3,\n 7,\n 7,\n 4,\n 2,\n 0,\n 5,\n 1,\n 1,\n 6,\n 5,\n 8,\n 4,\n 8,\n 1,\n 0,\n 3,\n 5,\n 7,\n 4,\n 5,\n 3,\n 2,\n 6,\n 3,\n 8,\n 1,\n 7,\n 7,\n 9,\n 2,\n 0,\n 4,\n 1,\n 1,\n 5,\n 5,\n 8,\n 9,\n 8,\n 1,\n 5,\n 3,\n 5,\n 0,\n 4,\n 5,\n 2,\n 2,\n 6,\n 5,\n 8,\n 1,\n 7,\n 7,\n 9,\n 3,\n 0,\n 4,\n 4,\n 1,\n 5,\n 0,\n 8,\n 9,\n 3,\n 1,\n 5,\n 4,\n 5,\n 0,\n 1,\n 5,\n 2,\n 8,\n 6,\n 5,\n 8,\n 1,\n 7,\n 7,\n 9,\n 3,\n 9,\n 4,\n 4,\n 1,\n 5,\n 0,\n 2,\n 9,\n 3,\n 3,\n 5,\n 4,\n 2,\n 0,\n 1,\n 9,\n 2,\n 8,\n 7,\n 5,\n 8,\n 5,\n 7,\n 7,\n 7,\n 3,\n 9,\n 7,\n 4,\n 1,\n 4,\n 0,\n 2,\n 7,\n 3,\n 3,\n 3,\n 4,\n 2,\n 7,\n 1,\n 9,\n 5,\n 8,\n 7,\n 0,\n 8,\n 5,\n 6,\n 7,\n 7,\n 6,\n 9,\n 7,\n 2,\n 1,\n 4,\n 3,\n 2,\n 7,\n 9,\n 3,\n 3,\n 1,\n 2,\n 7,\n 3,\n 9,\n 5,\n 1,\n 7,\n 0,\n 1,\n 5,\n 6,\n 6,\n 7,\n 6,\n 4,\n 7,\n 2,\n 0,\n 4,\n 3,\n 6,\n 7,\n 9,\n 3,\n 3,\n 1,\n 5,\n 7,\n 3,\n 2,\n 5,\n 1,\n 8,\n 0,\n 1,\n 9,\n 6,\n 6,\n 0,\n 6,\n 4,\n 8,\n 2,\n 0,\n 9,\n 3,\n 6,\n 4,\n 9,\n 3,\n 8,\n 1,\n 5,\n 3,\n 3,\n 2,\n 6,\n 1,\n 8,\n 3,\n 1,\n 9,\n 0,\n 6,\n 0,\n 7,\n 4,\n 8,\n 6,\n 0,\n 9,\n 2,\n 6,\n 4,\n 2,\n 3,\n 8,\n 0,\n 5,\n 3,\n 8,\n 2,\n 6,\n 6,\n 8,\n 3,\n 7,\n 9,\n 0,\n 1,\n 0,\n 7,\n 6,\n 8,\n 6,\n 2,\n 9,\n 2,\n 7,\n 4,\n 2,\n 8,\n 8,\n 0,\n 2,\n 3,\n 8,\n 0,\n 6,\n 6,\n 5,\n 3,\n 7,\n 0,\n 0,\n 1,\n 3,\n 7,\n 6,\n 3,\n 6,\n 2,\n 8,\n 2,\n 7,\n 7,\n 2,\n 8,\n 9,\n 0,\n 2,\n 8,\n 8,\n 0,\n 2,\n 6,\n 5,\n 7,\n 7,\n 0,\n 1,\n 1,\n 3,\n 8,\n 6,\n 3,\n 0,\n 2,\n 8,\n 6,\n 7,\n 7,\n 6,\n 8,\n 9,\n 8,\n 2,\n 8,\n 4,\n 0,\n 2,\n 5,\n 5,\n 7,\n 6,\n 0,\n 1,\n 5,\n 3,\n 8,\n 9,\n 3,\n 0,\n 1,\n 8,\n 6,\n 3,\n 7,\n 6,\n 7,\n 9,\n 8,\n 4,\n 8,\n 4,\n 0,\n 2,\n 5,\n 6,\n 7,\n 6,\n 5,\n 1,\n 5,\n 5,\n 8,\n 9,\n 8,\n 0,\n 1,\n 5,\n 6,\n 3,\n 9,\n 6,\n 7,\n 7,\n 8,\n 4,\n 7,\n 4,\n 0,\n 1,\n 5,\n 6,\n 0,\n 6,\n 5,\n 1,\n 5,\n 5,\n 6,\n 9,\n 8,\n 0,\n 1,\n 5,\n 5,\n 3,\n 9,\n 4,\n 7,\n 7,\n 1,\n 4,\n 7,\n 2,\n 0,\n 1,\n 0,\n 6,\n 0,\n 2,\n 5,\n 1,\n 3,\n 5,\n 6,\n 0,\n 8,\n 0,\n 4,\n 5,\n 5,\n 0,\n 9,\n 4,\n 1,\n 7,\n 1,\n 2,\n 7,\n 2,\n 5,\n 1,\n 0,\n 8,\n 0,\n 2,\n 9,\n 1,\n 3,\n 6,\n 6,\n ...]"
     },
     "execution_count": 6,
     "metadata": {},
     "output_type": "execute_result"
    }
   ],
   "source": [
    "def conv_element(mat, H, W, K, C):\n",
    "    list_conv_element = []\n",
    "    for i in range(H - K + 1):\n",
    "        for j in range(W - K + 1):\n",
    "            for c in range(C):\n",
    "                for k1 in range(K):\n",
    "                    for k2 in range(K):\n",
    "                        list_conv_element.append(mat[c][i+k1][j+k2])\n",
    "    return list_conv_element\n",
    "\n",
    "conv_element(input_feature_map, 56, 56, 3, 3)"
   ],
   "metadata": {
    "collapsed": false,
    "ExecuteTime": {
     "end_time": "2023-10-14T03:28:42.787204900Z",
     "start_time": "2023-10-14T03:28:42.731796900Z"
    }
   }
  },
  {
   "cell_type": "code",
   "execution_count": 7,
   "outputs": [
    {
     "data": {
      "text/plain": "array([[0, 3, 8, ..., 7, 9, 6],\n       [8, 4, 1, ..., 6, 9, 9],\n       [1, 5, 9, ..., 9, 9, 4],\n       ...,\n       [9, 5, 5, ..., 8, 5, 9],\n       [5, 4, 7, ..., 9, 3, 7],\n       [7, 9, 6, ..., 7, 2, 7]])"
     },
     "execution_count": 7,
     "metadata": {},
     "output_type": "execute_result"
    }
   ],
   "source": [
    "np.array(conv_element(input_feature_map, 56, 56, 3, 3)).reshape(-1,54)"
   ],
   "metadata": {
    "collapsed": false,
    "ExecuteTime": {
     "end_time": "2023-10-14T03:28:42.850968100Z",
     "start_time": "2023-10-14T03:28:42.777205300Z"
    }
   }
  },
  {
   "cell_type": "code",
   "execution_count": 8,
   "outputs": [
    {
     "data": {
      "text/plain": "array([[0, 3, 8, ..., 6, 9, 3],\n       [7, 3, 0, ..., 9, 7, 3],\n       [2, 3, 1, ..., 5, 7, 0],\n       ...,\n       [9, 2, 2, ..., 9, 6, 8],\n       [5, 9, 1, ..., 8, 8, 1],\n       [8, 1, 6, ..., 5, 2, 9]])"
     },
     "execution_count": 8,
     "metadata": {},
     "output_type": "execute_result"
    }
   ],
   "source": [
    "input_feature_map[0]"
   ],
   "metadata": {
    "collapsed": false,
    "ExecuteTime": {
     "end_time": "2023-10-14T03:28:42.860517900Z",
     "start_time": "2023-10-14T03:28:42.822598300Z"
    }
   }
  },
  {
   "cell_type": "code",
   "execution_count": 9,
   "outputs": [],
   "source": [
    "list1 = conv_element(input_feature_map, 56, 56, 3, 3)"
   ],
   "metadata": {
    "collapsed": false,
    "ExecuteTime": {
     "end_time": "2023-10-14T03:28:42.876582300Z",
     "start_time": "2023-10-14T03:28:42.838620500Z"
    }
   }
  },
  {
   "cell_type": "code",
   "execution_count": 10,
   "outputs": [
    {
     "data": {
      "text/plain": "array([[0., 3., 8., ..., 4., 7., 9.],\n       [3., 8., 4., ..., 7., 9., 6.],\n       [8., 4., 1., ..., 9., 6., 8.],\n       ...,\n       [1., 7., 9., ..., 9., 3., 7.],\n       [7., 9., 6., ..., 3., 7., 2.],\n       [9., 6., 9., ..., 7., 2., 7.]])"
     },
     "execution_count": 10,
     "metadata": {},
     "output_type": "execute_result"
    }
   ],
   "source": [
    "def img2col(mat, element_lsit, k_size=3, channel=3):\n",
    "    \"\"\"\n",
    "    以img2col的方式展开矩阵. 只适用于stride为1\n",
    "    \"\"\"\n",
    "    count = 0\n",
    "    col_num = (mat.shape[1] - k_size + 1) * (mat.shape[2] - k_size + 1)\n",
    "    row_num = k_size**2 * channel\n",
    "    new_ifm = np.zeros(shape=(row_num, col_num))\n",
    "    for j in range(col_num):\n",
    "        for i in range(row_num):\n",
    "            # i是新ifm的行标号， j是新ifm的列标号\n",
    "            new_ifm[i][j] = element_lsit[count]\n",
    "            count += 1\n",
    "    return new_ifm\n",
    "\n",
    "img2col(input_feature_map, list1)"
   ],
   "metadata": {
    "collapsed": false,
    "ExecuteTime": {
     "end_time": "2023-10-14T03:28:42.900593700Z",
     "start_time": "2023-10-14T03:28:42.869979300Z"
    }
   }
  },
  {
   "cell_type": "code",
   "execution_count": 11,
   "outputs": [
    {
     "data": {
      "text/plain": "array([[0, 3, 8, ..., 6, 9, 3],\n       [7, 3, 0, ..., 9, 7, 3],\n       [2, 3, 1, ..., 5, 7, 0],\n       ...,\n       [9, 2, 2, ..., 9, 6, 8],\n       [5, 9, 1, ..., 8, 8, 1],\n       [8, 1, 6, ..., 5, 2, 9]])"
     },
     "execution_count": 11,
     "metadata": {},
     "output_type": "execute_result"
    }
   ],
   "source": [
    "input_feature_map[0]"
   ],
   "metadata": {
    "collapsed": false,
    "ExecuteTime": {
     "end_time": "2023-10-14T03:28:42.926406200Z",
     "start_time": "2023-10-14T03:28:42.900593700Z"
    }
   }
  },
  {
   "cell_type": "code",
   "execution_count": 12,
   "outputs": [
    {
     "data": {
      "text/plain": "array([[4, 8, 1, ..., 7, 2, 0],\n       [5, 2, 3, ..., 9, 1, 5],\n       [7, 3, 4, ..., 4, 1, 1],\n       ...,\n       [1, 6, 4, ..., 8, 3, 2],\n       [4, 2, 3, ..., 5, 3, 3],\n       [5, 2, 5, ..., 7, 3, 7]])"
     },
     "execution_count": 12,
     "metadata": {},
     "output_type": "execute_result"
    }
   ],
   "source": [
    "input_feature_map[1]"
   ],
   "metadata": {
    "collapsed": false,
    "ExecuteTime": {
     "end_time": "2023-10-14T03:28:42.965342400Z",
     "start_time": "2023-10-14T03:28:42.918118800Z"
    }
   }
  },
  {
   "cell_type": "code",
   "execution_count": 13,
   "outputs": [
    {
     "data": {
      "text/plain": "array([[9, 4, 5, ..., 3, 2, 6],\n       [4, 6, 9, ..., 3, 6, 9],\n       [1, 7, 9, ..., 8, 9, 6],\n       ...,\n       [1, 4, 6, ..., 5, 7, 8],\n       [1, 7, 8, ..., 5, 3, 6],\n       [3, 0, 0, ..., 7, 2, 7]])"
     },
     "execution_count": 13,
     "metadata": {},
     "output_type": "execute_result"
    }
   ],
   "source": [
    "input_feature_map[2]"
   ],
   "metadata": {
    "collapsed": false,
    "ExecuteTime": {
     "end_time": "2023-10-14T03:28:42.966358100Z",
     "start_time": "2023-10-14T03:28:42.932406600Z"
    }
   }
  },
  {
   "cell_type": "code",
   "execution_count": 13,
   "outputs": [],
   "source": [],
   "metadata": {
    "collapsed": false,
    "ExecuteTime": {
     "end_time": "2023-10-14T03:28:42.966358100Z",
     "start_time": "2023-10-14T03:28:42.948157600Z"
    }
   }
  },
  {
   "cell_type": "code",
   "execution_count": 13,
   "outputs": [],
   "source": [],
   "metadata": {
    "collapsed": false,
    "ExecuteTime": {
     "end_time": "2023-10-14T03:28:42.980616100Z",
     "start_time": "2023-10-14T03:28:42.963070700Z"
    }
   }
  },
  {
   "cell_type": "code",
   "execution_count": 13,
   "outputs": [],
   "source": [],
   "metadata": {
    "collapsed": false,
    "ExecuteTime": {
     "end_time": "2023-10-14T03:28:43.008801800Z",
     "start_time": "2023-10-14T03:28:42.978382700Z"
    }
   }
  },
  {
   "cell_type": "code",
   "execution_count": 13,
   "outputs": [],
   "source": [],
   "metadata": {
    "collapsed": false,
    "ExecuteTime": {
     "end_time": "2023-10-14T03:28:43.009801500Z",
     "start_time": "2023-10-14T03:28:42.994725300Z"
    }
   }
  },
  {
   "cell_type": "code",
   "execution_count": 13,
   "outputs": [],
   "source": [],
   "metadata": {
    "collapsed": false,
    "ExecuteTime": {
     "end_time": "2023-10-14T03:28:43.027883900Z",
     "start_time": "2023-10-14T03:28:43.011801300Z"
    }
   }
  },
  {
   "cell_type": "code",
   "execution_count": 13,
   "outputs": [],
   "source": [],
   "metadata": {
    "collapsed": false,
    "ExecuteTime": {
     "end_time": "2023-10-14T03:28:43.046888600Z",
     "start_time": "2023-10-14T03:28:43.025977600Z"
    }
   }
  },
  {
   "cell_type": "code",
   "execution_count": 13,
   "outputs": [],
   "source": [],
   "metadata": {
    "collapsed": false,
    "ExecuteTime": {
     "end_time": "2023-10-14T03:28:43.055888100Z",
     "start_time": "2023-10-14T03:28:43.039888400Z"
    }
   }
  },
  {
   "cell_type": "code",
   "execution_count": 13,
   "outputs": [],
   "source": [],
   "metadata": {
    "collapsed": false,
    "ExecuteTime": {
     "end_time": "2023-10-14T03:28:43.078897500Z",
     "start_time": "2023-10-14T03:28:43.055888100Z"
    }
   }
  },
  {
   "cell_type": "code",
   "execution_count": 13,
   "outputs": [],
   "source": [],
   "metadata": {
    "collapsed": false,
    "ExecuteTime": {
     "end_time": "2023-10-14T03:28:43.087888300Z",
     "start_time": "2023-10-14T03:28:43.071917500Z"
    }
   }
  }
 ],
 "metadata": {
  "kernelspec": {
   "name": "python3",
   "language": "python",
   "display_name": "Python 3 (ipykernel)"
  },
  "language_info": {
   "codemirror_mode": {
    "name": "ipython",
    "version": 2
   },
   "file_extension": ".py",
   "mimetype": "text/x-python",
   "name": "python",
   "nbconvert_exporter": "python",
   "pygments_lexer": "ipython2",
   "version": "2.7.6"
  }
 },
 "nbformat": 4,
 "nbformat_minor": 0
}
