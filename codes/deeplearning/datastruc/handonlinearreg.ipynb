{
 "cells": [
  {
   "cell_type": "markdown",
   "source": [
    "# 复习：手动实现线性回归神经网络"
   ],
   "metadata": {
    "collapsed": false
   },
   "id": "c4db86e0e113c11b"
  },
  {
   "cell_type": "code",
   "execution_count": 1,
   "outputs": [],
   "source": [
    "# 导入所需要的包\n",
    "import random\n",
    "import torch\n",
    "import matplotlib.pyplot as plt"
   ],
   "metadata": {
    "collapsed": false,
    "ExecuteTime": {
     "end_time": "2023-08-30T03:05:03.730230300Z",
     "start_time": "2023-08-30T03:05:00.969740200Z"
    }
   },
   "id": "f852c63bd1784cc8"
  },
  {
   "cell_type": "code",
   "execution_count": 2,
   "outputs": [],
   "source": [
    "def sample(w, b, num_samples):\n",
    "    X = torch.normal(0, 1, (num_samples, len(w)))\n",
    "    y = torch.matmul(X, w) + b\n",
    "    noise = torch.normal(0, 0.01, y.shape)\n",
    "    y += noise\n",
    "    return X, y.reshape(-1, 1)"
   ],
   "metadata": {
    "collapsed": false,
    "ExecuteTime": {
     "end_time": "2023-08-30T03:05:06.529684600Z",
     "start_time": "2023-08-30T03:05:06.519335700Z"
    }
   },
   "id": "e802a3527e9e35c8"
  },
  {
   "cell_type": "markdown",
   "source": [
    "sample函数，返回值X为维度是（样本数，输入特征数）的张量，\n",
    "使用torch.matmul()函数，X的每一行是一个样本，每个样本里输入特征数与w长度一致，该函数为乘积后加和，既矩阵点乘结果"
   ],
   "metadata": {
    "collapsed": false
   },
   "id": "7d82fbb211eee596"
  },
  {
   "cell_type": "code",
   "execution_count": 3,
   "outputs": [
    {
     "data": {
      "text/plain": "<matplotlib.collections.PathCollection at 0x1d0cf718970>"
     },
     "execution_count": 3,
     "metadata": {},
     "output_type": "execute_result"
    },
    {
     "data": {
      "text/plain": "<Figure size 640x480 with 1 Axes>",
      "image/png": "[encoded data removed]"
     },
     "metadata": {},
     "output_type": "display_data"
    }
   ],
   "source": [
    "true_w = torch.tensor([1.1, -2.1])\n",
    "true_b = 2.1\n",
    "features, labels = sample(true_w, true_b, 1000)\n",
    "plt.scatter(features[:, 1], labels, 1)"
   ],
   "metadata": {
    "collapsed": false,
    "ExecuteTime": {
     "end_time": "2023-08-30T03:05:08.474079700Z",
     "start_time": "2023-08-30T03:05:08.308608900Z"
    }
   },
   "id": "7d63a5f70ab93ee3"
  },
  {
   "cell_type": "code",
   "execution_count": 4,
   "outputs": [],
   "source": [
    "def data_iter(features, labels, batch_size):\n",
    "    \"\"\"\n",
    "    features 为所有样本\n",
    "    :param features: \n",
    "    :param labels: \n",
    "    :param batch_size: \n",
    "    :return: \n",
    "    \"\"\"\n",
    "    num_samples = len(features)\n",
    "    indices = list(range(num_samples))\n",
    "    random.shuffle(indices)\n",
    "    for i in range(0, num_samples, batch_size):\n",
    "        batch_indices = torch.tensor(indices[i:min(i+batch_size,num_samples)])\n",
    "        yield features[batch_indices], labels[batch_indices]"
   ],
   "metadata": {
    "collapsed": false,
    "ExecuteTime": {
     "end_time": "2023-08-30T03:05:09.289384Z",
     "start_time": "2023-08-30T03:05:09.268181700Z"
    }
   },
   "id": "bc1fbf240821a8cb"
  },
  {
   "cell_type": "code",
   "execution_count": 5,
   "outputs": [],
   "source": [
    "def square_loss(y_hat, y):\n",
    "    return (y_hat - y) ** 2 / 2\n",
    "\n",
    "def linreg(X, w, b):\n",
    "    return torch.matmul(X, w) + b\n",
    "\n",
    "def sgd(params, lr, batch_size):\n",
    "    with torch.no_grad():\n",
    "        for params in params:\n",
    "            params -= lr * params.grad / batch_size\n",
    "            params.grad.zero_()"
   ],
   "metadata": {
    "collapsed": false,
    "ExecuteTime": {
     "end_time": "2023-08-30T03:05:09.849113600Z",
     "start_time": "2023-08-30T03:05:09.836938800Z"
    }
   },
   "id": "c918dc40786124e7"
  },
  {
   "cell_type": "code",
   "execution_count": 6,
   "outputs": [
    {
     "name": "stdout",
     "output_type": "stream",
     "text": [
      "epoch1, loss 0.010598\n",
      "epoch2, loss 0.000071\n",
      "epoch3, loss 0.000048\n"
     ]
    }
   ],
   "source": [
    "lr = 0.03\n",
    "num_epochs = 3\n",
    "net = linreg\n",
    "loss = square_loss\n",
    "batch_size = 10\n",
    "w = torch.normal(0, 0.01, size=(2,1), requires_grad=True)\n",
    "b = torch.zeros(1, requires_grad=True)\n",
    "for epoch in range(num_epochs):\n",
    "    for X, y in data_iter(features, labels, batch_size):\n",
    "        l = loss(net(X, w, b), y)\n",
    "        l.sum().backward()\n",
    "        sgd([w, b], lr, batch_size)\n",
    "    with torch.no_grad():\n",
    "        train_loss = loss(net(features, w, b), labels)\n",
    "        print(f'epoch{epoch + 1}, loss {float(train_loss.mean()):f}')"
   ],
   "metadata": {
    "collapsed": false,
    "ExecuteTime": {
     "end_time": "2023-08-30T03:05:11.057618100Z",
     "start_time": "2023-08-30T03:05:10.955494300Z"
    }
   },
   "id": "56f96f19ad84c36b"
  },
  {
   "cell_type": "code",
   "execution_count": 7,
   "outputs": [
    {
     "data": {
      "text/plain": "(tensor([[ 1.0994],\n         [-2.0996]], requires_grad=True),\n tensor([2.1006], requires_grad=True))"
     },
     "execution_count": 7,
     "metadata": {},
     "output_type": "execute_result"
    }
   ],
   "source": [
    "w, b"
   ],
   "metadata": {
    "collapsed": false,
    "ExecuteTime": {
     "end_time": "2023-08-30T03:05:11.997718200Z",
     "start_time": "2023-08-30T03:05:11.986738800Z"
    }
   },
   "id": "1ffbf8115c4092a0"
  },
  {
   "cell_type": "code",
   "execution_count": 7,
   "outputs": [],
   "source": [],
   "metadata": {
    "collapsed": false,
    "ExecuteTime": {
     "end_time": "2023-08-30T03:05:12.574597500Z",
     "start_time": "2023-08-30T03:05:12.564300400Z"
    }
   },
   "id": "1c87ae0e59efee48"
  },
  {
   "cell_type": "code",
   "execution_count": 8,
   "outputs": [],
   "source": [
    "import torch\n",
    "import random"
   ],
   "metadata": {
    "collapsed": false,
    "ExecuteTime": {
     "end_time": "2023-08-30T03:05:13.162638400Z",
     "start_time": "2023-08-30T03:05:13.132899200Z"
    }
   },
   "id": "44ff9810e7733eb1"
  },
  {
   "cell_type": "code",
   "execution_count": 9,
   "outputs": [],
   "source": [
    "# 首先尝试生成样本数据\n",
    "def produce_data(w, b, num_samples):\n",
    "    X = torch.normal(0, 1, (num_samples, len(w)))\n",
    "    labels = torch.matmul(X, w) + b\n",
    "    noise = torch.normal(0, 0.01, labels.shape)\n",
    "    labels += noise\n",
    "    return X, labels.reshape(-1, 1)"
   ],
   "metadata": {
    "collapsed": false,
    "ExecuteTime": {
     "end_time": "2023-08-30T03:05:13.695840Z",
     "start_time": "2023-08-30T03:05:13.681996200Z"
    }
   },
   "id": "bc6ff8fd0e2db2ea"
  },
  {
   "cell_type": "code",
   "execution_count": 10,
   "outputs": [],
   "source": [
    "true_w = torch.tensor([2.1, -3.1])\n",
    "true_b = 4.2\n",
    "features, labels = produce_data(true_w, true_b, 1000)"
   ],
   "metadata": {
    "collapsed": false,
    "ExecuteTime": {
     "end_time": "2023-08-30T03:05:14.308388400Z",
     "start_time": "2023-08-30T03:05:14.299319300Z"
    }
   },
   "id": "47bb7b13e689670c"
  },
  {
   "cell_type": "code",
   "execution_count": 11,
   "outputs": [
    {
     "data": {
      "text/plain": "<matplotlib.collections.PathCollection at 0x1d0c802d850>"
     },
     "execution_count": 11,
     "metadata": {},
     "output_type": "execute_result"
    },
    {
     "data": {
      "text/plain": "<Figure size 640x480 with 1 Axes>",
      "image/png": "[encoded data removed]"
     },
     "metadata": {},
     "output_type": "display_data"
    }
   ],
   "source": [
    "from matplotlib import pyplot as plt\n",
    "plt.scatter(features[:,0], labels, 1)\n",
    "plt.scatter(features[:,1], labels, 1)"
   ],
   "metadata": {
    "collapsed": false,
    "ExecuteTime": {
     "end_time": "2023-08-30T03:05:14.953081Z",
     "start_time": "2023-08-30T03:05:14.844263800Z"
    }
   },
   "id": "cc5e31719b3f76bf"
  },
  {
   "cell_type": "code",
   "execution_count": 12,
   "outputs": [
    {
     "name": "stdout",
     "output_type": "stream",
     "text": [
      "epoch1, loss 0.038589\n",
      "epoch2, loss 0.000130\n",
      "epoch3, loss 0.000054\n"
     ]
    }
   ],
   "source": [
    "def linreg(features, w, b):\n",
    "    return torch.matmul(features, w) + b\n",
    "\n",
    "def square_loss(y_hat, y):\n",
    "    return (y_hat - y) ** 2 / 2\n",
    "\n",
    "def sgd(params, lr, batch_size):\n",
    "    with torch.no_grad():  # 忘记加这一步会导致梯度累加\n",
    "        for param in params:\n",
    "            param -= param.grad * lr / batch_size\n",
    "            param.grad.zero_()\n",
    "\n",
    "def data_iter(batch_size, features, labels):\n",
    "    num_samples = len(features)\n",
    "    indices = list(range(num_samples))\n",
    "    # shuffle 是一个直接调用的函数\n",
    "    random.shuffle(indices)\n",
    "    for i in range(0, num_samples, batch_size):\n",
    "        batch_indices = torch.tensor(indices[i: min(i + batch_size, num_samples)])\n",
    "        yield features[batch_indices], labels[batch_indices]\n",
    "        \n",
    "num_epochs = 3\n",
    "lr = 0.03\n",
    "net = linreg\n",
    "loss = square_loss\n",
    "batch_size = 10\n",
    "w = torch.normal(0, 1, size=(2,1), requires_grad=True)\n",
    "b = torch.zeros(1, requires_grad=True)\n",
    "\n",
    "for epoch in range(num_epochs):\n",
    "    for X, y in data_iter(batch_size, features, labels):\n",
    "        y_hat = net(X, w, b)\n",
    "        l = loss(y_hat, y)\n",
    "        # 这里必须调用 dataiter之中的X，y\n",
    "        l.sum().backward()\n",
    "        sgd([w, b], lr, batch_size)\n",
    "    with torch.no_grad():\n",
    "        train_loss = loss(net(features, w, b), labels)\n",
    "        print(f'epoch{epoch + 1}, loss {float(train_loss.mean()):f}')"
   ],
   "metadata": {
    "collapsed": false,
    "ExecuteTime": {
     "end_time": "2023-08-30T03:05:15.515571300Z",
     "start_time": "2023-08-30T03:05:15.456023200Z"
    }
   },
   "id": "45ffda9f2387527a"
  },
  {
   "cell_type": "code",
   "execution_count": 13,
   "outputs": [
    {
     "data": {
      "text/plain": "(tensor([[ 2.1000],\n         [-3.0992]], requires_grad=True),\n tensor([4.1999], requires_grad=True))"
     },
     "execution_count": 13,
     "metadata": {},
     "output_type": "execute_result"
    }
   ],
   "source": [
    "w, b"
   ],
   "metadata": {
    "collapsed": false,
    "ExecuteTime": {
     "end_time": "2023-08-30T03:05:16.127612900Z",
     "start_time": "2023-08-30T03:05:16.104693700Z"
    }
   },
   "id": "23755a0c06226869"
  },
  {
   "cell_type": "code",
   "execution_count": 14,
   "outputs": [],
   "source": [
    "from torch.utils import data\n",
    "import torch.nn as nn\n",
    "\n",
    "def load_array(data_array, batch_size, is_train = True):\n",
    "    dataset = data.TensorDataset(*data_array)\n",
    "    return data.DataLoader(dataset, batch_size, shuffle=is_train)"
   ],
   "metadata": {
    "collapsed": false,
    "ExecuteTime": {
     "end_time": "2023-08-30T03:05:16.842568600Z",
     "start_time": "2023-08-30T03:05:16.834305900Z"
    }
   },
   "id": "8c6d405212912999"
  },
  {
   "cell_type": "code",
   "execution_count": 15,
   "outputs": [
    {
     "data": {
      "text/plain": "<torch.utils.data.dataloader.DataLoader at 0x1d0d087e970>"
     },
     "execution_count": 15,
     "metadata": {},
     "output_type": "execute_result"
    }
   ],
   "source": [
    "batch_size = 10\n",
    "data_iter = load_array((features, labels), batch_size, True)\n",
    "data_iter"
   ],
   "metadata": {
    "collapsed": false,
    "ExecuteTime": {
     "end_time": "2023-08-30T03:05:17.466726900Z",
     "start_time": "2023-08-30T03:05:17.448800100Z"
    }
   },
   "id": "7457cd16cf17b41e"
  },
  {
   "cell_type": "code",
   "execution_count": 16,
   "outputs": [
    {
     "name": "stdout",
     "output_type": "stream",
     "text": [
      "eopch1, loss0.000204\n",
      "eopch2, loss0.000108\n",
      "eopch3, loss0.000108\n"
     ]
    }
   ],
   "source": [
    "net = nn.Sequential(nn.Linear(2, 1))\n",
    "net[0].weight.data.normal_(0, 0.01)\n",
    "net[0].bias.data.fill_(0)\n",
    "loss = nn.MSELoss()\n",
    "trainer = torch.optim.SGD(net.parameters(), lr=0.03)\n",
    "num_epochs = 3\n",
    "\n",
    "for epoch in range(num_epochs):\n",
    "    for X, y in data_iter:\n",
    "        l = loss(net(X), y)\n",
    "        trainer.zero_grad()\n",
    "        l.backward()\n",
    "        trainer.step()\n",
    "    l = loss(net(features), labels)\n",
    "    print(f'eopch{epoch+1}, loss{l:f}')"
   ],
   "metadata": {
    "collapsed": false,
    "ExecuteTime": {
     "end_time": "2023-08-30T03:05:18.751234900Z",
     "start_time": "2023-08-30T03:05:18.665461700Z"
    }
   },
   "id": "9981c79420389e1"
  },
  {
   "cell_type": "code",
   "execution_count": 17,
   "outputs": [
    {
     "data": {
      "text/plain": "tensor([[ 2.1001, -3.0998]])"
     },
     "execution_count": 17,
     "metadata": {},
     "output_type": "execute_result"
    }
   ],
   "source": [
    "net[0].weight.data"
   ],
   "metadata": {
    "collapsed": false,
    "ExecuteTime": {
     "end_time": "2023-08-30T03:05:19.953191500Z",
     "start_time": "2023-08-30T03:05:19.937349Z"
    }
   },
   "id": "95692e5f6212a465"
  },
  {
   "cell_type": "code",
   "execution_count": 1,
   "outputs": [],
   "source": [
    "import gurobipy as gp"
   ],
   "metadata": {
    "collapsed": false,
    "ExecuteTime": {
     "end_time": "2023-10-11T16:39:41.758215Z",
     "start_time": "2023-10-11T16:39:41.733909400Z"
    }
   },
   "id": "2c6e31230d01a937"
  },
  {
   "cell_type": "code",
   "execution_count": null,
   "outputs": [],
   "source": [],
   "metadata": {
    "collapsed": false
   },
   "id": "b53290afb6de77b1"
  }
 ],
 "metadata": {
  "kernelspec": {
   "display_name": "Python 3",
   "language": "python",
   "name": "python3"
  },
  "language_info": {
   "codemirror_mode": {
    "name": "ipython",
    "version": 2
   },
   "file_extension": ".py",
   "mimetype": "text/x-python",
   "name": "python",
   "nbconvert_exporter": "python",
   "pygments_lexer": "ipython2",
   "version": "2.7.6"
  }
 },
 "nbformat": 4,
 "nbformat_minor": 5
}
